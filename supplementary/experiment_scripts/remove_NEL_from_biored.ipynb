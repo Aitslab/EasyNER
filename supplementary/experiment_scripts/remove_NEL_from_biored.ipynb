{
 "cells": [
  {
   "cell_type": "markdown",
   "id": "d6f72766",
   "metadata": {},
   "source": [
    "## Biored corpus (test) contains NEL entities as well at the end of the file. This script removes such entities"
   ]
  },
  {
   "cell_type": "code",
   "execution_count": 12,
   "id": "c67f3a67",
   "metadata": {},
   "outputs": [],
   "source": [
    "import json\n",
    "import pandas as pd\n",
    "import os\n",
    "from tqdm.notebook import tqdm\n",
    "import re"
   ]
  },
  {
   "cell_type": "code",
   "execution_count": null,
   "id": "fc4a5a03",
   "metadata": {},
   "outputs": [],
   "source": [
    "\n"
   ]
  },
  {
   "cell_type": "code",
   "execution_count": 13,
   "id": "b27bbfff",
   "metadata": {},
   "outputs": [],
   "source": [
    "infile_biored = \"../annotations/BIORED/BioRED/Test.PubTator\"\n",
    "outfile_biored = \"../annotations/goldstandard_hf_orig/biored_test_processed.txt\"\n",
    "def detect_biored_pattern(text):\n",
    "    pattern = r'^\\d+\\|[a-zA-Z]\\|'\n",
    "    match = re.match(pattern, text)\n",
    "\n",
    "    return bool(match)\n",
    "\n",
    "def split_med_paragraph(text):\n",
    "    # regex\n",
    "    pattern = r'^(\\d+\\|[ta]|)(.*)'\n",
    "#     pattern_a = r'^(\\d+\\|a|)(.*)'\n",
    "    \n",
    "    \n",
    "#     # Use re.match to check if the pattern exists at the beginning of the paragraph\n",
    "#     match = re.match(pattern, text)\n",
    "    \n",
    "#     if match:\n",
    "#         # Extract the matched pattern and the rest of the paragraph\n",
    "#         matched_pattern = match.group(1)\n",
    "#         rest_of_paragraph = match.group(2).strip()\n",
    "        \n",
    "#         return matched_pattern, rest_of_paragraph\n",
    "#     else:\n",
    "#         return None, paragraph\n",
    "    \n",
    "# def join_title_and_abstract_med(articles):\n",
    "#     for id_ in articles:\n",
    "#         articles[id_][\"abstract\"] = \"{} {}\".format(articles[id_][\"title\"],articles[id_][\"abstract\"])\n",
    "# #         del articles[id_][\"title\"]\n",
    "#     return articles"
   ]
  },
  {
   "cell_type": "code",
   "execution_count": 22,
   "id": "a037f730",
   "metadata": {
    "scrolled": true
   },
   "outputs": [
    {
     "data": {
      "application/vnd.jupyter.widget-view+json": {
       "model_id": "23d02a2514694883b78bd09831132879",
       "version_major": 2,
       "version_minor": 0
      },
      "text/plain": [
       "0it [00:00, ?it/s]"
      ]
     },
     "metadata": {},
     "output_type": "display_data"
    }
   ],
   "source": [
    "with open(infile_biored, encoding=\"utf8\") as f, open(outfile_biored, \"w\", encoding=\"utf8\") as of:\n",
    "        \n",
    "    for idx, line in tqdm(enumerate(f.readlines())):\n",
    "        if detect_biored_pattern(line):\n",
    "            #if pattern matches, print\n",
    "            of.write(line)\n",
    "        else:\n",
    "            #pattern doesnt match\n",
    "            line_ = line.split()\n",
    "            if len(line_)==0:\n",
    "                of.write(line)\n",
    "            else:\n",
    "                if not line_[1].isdigit():\n",
    "                    continue\n",
    "                else:\n",
    "                    of.write(line)\n",
    "\n",
    "#             if key_==\"t\" and \"title\" not in articles_med[id_]:\n",
    "#                 articles_med[id_][\"title\"]= text_+\".\"\n",
    "#             elif key_==\"a\" and \"abstract\" not in articles_med[id_]:\n",
    "#                 articles_med[id_][\"abstract\"]= text_\n",
    "#             else:\n",
    "#                 raise Exception(\"ERR!!\")\n"
   ]
  },
  {
   "cell_type": "code",
   "execution_count": null,
   "id": "2376f142",
   "metadata": {},
   "outputs": [],
   "source": []
  }
 ],
 "metadata": {
  "kernelspec": {
   "display_name": "Python 3 (ipykernel)",
   "language": "python",
   "name": "python3"
  },
  "language_info": {
   "codemirror_mode": {
    "name": "ipython",
    "version": 3
   },
   "file_extension": ".py",
   "mimetype": "text/x-python",
   "name": "python",
   "nbconvert_exporter": "python",
   "pygments_lexer": "ipython3",
   "version": "3.9.13"
  }
 },
 "nbformat": 4,
 "nbformat_minor": 5
}
