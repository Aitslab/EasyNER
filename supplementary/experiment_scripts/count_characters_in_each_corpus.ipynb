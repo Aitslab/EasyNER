{
 "cells": [
  {
   "cell_type": "code",
   "execution_count": 67,
   "id": "7a3c25d1",
   "metadata": {},
   "outputs": [],
   "source": [
    "import json\n",
    "import os\n",
    "from tqdm.notebook import tqdm"
   ]
  },
  {
   "cell_type": "markdown",
   "id": "3f881e6f",
   "metadata": {},
   "source": [
    "# LA1, LA2\n",
    "\n",
    "LA1 1451436\n",
    "\n",
    "LA2 12287696\n"
   ]
  },
  {
   "cell_type": "code",
   "execution_count": 69,
   "id": "f14bc493",
   "metadata": {},
   "outputs": [],
   "source": [
    "LA1_file = \"../../../EasyNER/results/dataloader/LA1_text.json\"\n",
    "LA2_file = \"../../../EasyNER/results/dataloader/LA2_text.json\"\n",
    "LC19_file = \"../../../EasyNER/results_huner_eval/processed_text/LC19_text.json\"\n",
    "bioid_file = \"../../../EasyNER/results_huner_eval/processed_text/bioid.json\"\n",
    "medmentions_file = \"../../../EasyNER/results_huner_eval/processed_text/medmentions_gs.json\"\n",
    "tmvar3_file = \"../../../EasyNER/results_huner_eval/processed_text/tmvar_v3_gs.json\"\n",
    "biored_file = \"../../../EasyNER/results_huner_eval/processed_text/biored_test.json\"\n",
    "\n",
    "file_list = [LA1_file,LA2_file, LC19_file,bioid_file, medmentions_file, tmvar3_file, biored_file]"
   ]
  },
  {
   "cell_type": "code",
   "execution_count": 70,
   "id": "053b554e",
   "metadata": {},
   "outputs": [],
   "source": [
    "def load_file(infile):\n",
    "    with open(infile, encoding=\"utf8\") as f:\n",
    "        return json.loads(f.read())\n",
    "def count_characters_from_json(d):\n",
    "    count=0\n",
    "    for item, val in d.items():\n",
    "        count+=len(val[\"abstract\"])\n",
    "#         print(val[\"abstract\"])\n",
    "#         print(len(val[\"abstract\"]))\n",
    "    return count\n",
    "        \n",
    "def count_characters_from_json_with_title(d):\n",
    "    count=0\n",
    "    for item, val in d.items():\n",
    "        count+=len(val[\"abstract\"])\n",
    "        count+=len(val[\"title\"])\n",
    "#         print(val[\"title\"])\n",
    "#         print(len(val[\"abstract\"]))\n",
    "    \n",
    "    return count\n",
    "def count_words_from_json(d):\n",
    "    count=0\n",
    "    for item, val in d.items():\n",
    "        count+=len(val[\"abstract\"].strip().split(\" \"))\n",
    "    return count\n"
   ]
  },
  {
   "cell_type": "code",
   "execution_count": 79,
   "id": "1219376d",
   "metadata": {},
   "outputs": [
    {
     "data": {
      "application/vnd.jupyter.widget-view+json": {
       "model_id": "e84f7ade63ab4f428621b236a6a33ff6",
       "version_major": 2,
       "version_minor": 0
      },
      "text/plain": [
       "  0%|          | 0/7 [00:00<?, ?it/s]"
      ]
     },
     "metadata": {},
     "output_type": "display_data"
    },
    {
     "name": "stdout",
     "output_type": "stream",
     "text": [
      "13060\n",
      "1885\n"
     ]
    },
    {
     "data": {
      "text/plain": [
       "{'LA1_text.json': 1451436,\n",
       " 'LA2_text.json': 12287696,\n",
       " 'LC19_text.json': 13060,\n",
       " 'bioid.json': 4620590,\n",
       " 'medmentions_gs.json': 6953869,\n",
       " 'tmvar_v3_gs.json': 811880,\n",
       " 'biored_test.json': 167957}"
      ]
     },
     "execution_count": 79,
     "metadata": {},
     "output_type": "execute_result"
    }
   ],
   "source": [
    "d_char = {}\n",
    "d_char_title = {} #abstract with title\n",
    "d_abs = {}\n",
    "d_words = {}\n",
    "\n",
    "for infile in tqdm(file_list[:]):\n",
    "    d = load_file(infile)\n",
    "    count = count_characters_from_json(d)\n",
    "    count_title = count_characters_from_json_with_title(d)\n",
    "    countw = count_words_from_json(d)\n",
    "    d_char[os.path.basename(infile)]=count\n",
    "    d_char_title[os.path.basename(infile)]=count_title\n",
    "    d_abs[os.path.basename(infile)] = len(d)\n",
    "    d_words[os.path.basename(infile)] = countw\n",
    "    if \"LC19\" in str(infile):\n",
    "        print(count)\n",
    "        print(countw)\n",
    "        \n",
    "    \n",
    "d_char"
   ]
  },
  {
   "cell_type": "code",
   "execution_count": 72,
   "id": "5380943a",
   "metadata": {},
   "outputs": [
    {
     "data": {
      "text/plain": [
       "{'LA1_text.json': 1553050,\n",
       " 'LA2_text.json': 13191968,\n",
       " 'LC19_text.json': 14104,\n",
       " 'bioid.json': 4719056,\n",
       " 'medmentions_gs.json': 7443668,\n",
       " 'tmvar_v3_gs.json': 870195,\n",
       " 'biored_test.json': 179563}"
      ]
     },
     "execution_count": 72,
     "metadata": {},
     "output_type": "execute_result"
    }
   ],
   "source": [
    "d_char_title"
   ]
  },
  {
   "cell_type": "code",
   "execution_count": 73,
   "id": "38c68fc4",
   "metadata": {},
   "outputs": [
    {
     "data": {
      "text/plain": [
       "{'LA1_text.json': 999,\n",
       " 'LA2_text.json': 8330,\n",
       " 'LC19_text.json': 10,\n",
       " 'bioid.json': 13697,\n",
       " 'medmentions_gs.json': 4392,\n",
       " 'tmvar_v3_gs.json': 500,\n",
       " 'biored_test.json': 100}"
      ]
     },
     "execution_count": 73,
     "metadata": {},
     "output_type": "execute_result"
    }
   ],
   "source": [
    "d_abs"
   ]
  },
  {
   "cell_type": "code",
   "execution_count": 75,
   "id": "2b58ca10",
   "metadata": {},
   "outputs": [
    {
     "data": {
      "text/plain": [
       "{'LA1_text.json': 205228,\n",
       " 'LA2_text.json': 1694993,\n",
       " 'LC19_text.json': 1885,\n",
       " 'bioid.json': 707176,\n",
       " 'medmentions_gs.json': 1012453,\n",
       " 'tmvar_v3_gs.json': 119066,\n",
       " 'biored_test.json': 24095}"
      ]
     },
     "execution_count": 75,
     "metadata": {},
     "output_type": "execute_result"
    }
   ],
   "source": [
    "d_words"
   ]
  },
  {
   "cell_type": "code",
   "execution_count": 23,
   "id": "856bf9a0",
   "metadata": {},
   "outputs": [],
   "source": []
  },
  {
   "cell_type": "code",
   "execution_count": 87,
   "id": "3bfc2633",
   "metadata": {},
   "outputs": [
    {
     "name": "stdout",
     "output_type": "stream",
     "text": [
      "len 2839\n",
      "count 2839\n",
      "len 297\n",
      "count 3136\n",
      "len 471\n",
      "count 3607\n",
      "len 1227\n",
      "count 4834\n",
      "len 1247\n",
      "count 6081\n",
      "len 1118\n",
      "count 7199\n",
      "len 1467\n",
      "count 8666\n",
      "len 1573\n",
      "count 10239\n",
      "len 1509\n",
      "count 11748\n",
      "len 1312\n",
      "count 13060\n"
     ]
    }
   ],
   "source": [
    "count = 0\n",
    "with open(LC19_file, encoding=\"utf8\") as f:\n",
    "    articles = json.loads(f.read())\n",
    "#     print(articles)\n",
    "    for art in articles:\n",
    "        len_ = (len(articles[art][\"abstract\"]))\n",
    "        count+=len_\n",
    "        print(\"len\", len_)\n",
    "        print(\"count\",count)"
   ]
  },
  {
   "cell_type": "code",
   "execution_count": null,
   "id": "1116d728",
   "metadata": {},
   "outputs": [],
   "source": []
  },
  {
   "cell_type": "code",
   "execution_count": null,
   "id": "7bfca1cc",
   "metadata": {},
   "outputs": [],
   "source": []
  },
  {
   "cell_type": "code",
   "execution_count": null,
   "id": "6fcaab3b",
   "metadata": {},
   "outputs": [],
   "source": []
  }
 ],
 "metadata": {
  "kernelspec": {
   "display_name": "Python 3 (ipykernel)",
   "language": "python",
   "name": "python3"
  },
  "language_info": {
   "codemirror_mode": {
    "name": "ipython",
    "version": 3
   },
   "file_extension": ".py",
   "mimetype": "text/x-python",
   "name": "python",
   "nbconvert_exporter": "python",
   "pygments_lexer": "ipython3",
   "version": "3.9.13"
  }
 },
 "nbformat": 4,
 "nbformat_minor": 5
}
